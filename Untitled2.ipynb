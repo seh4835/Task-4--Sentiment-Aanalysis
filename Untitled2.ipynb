{
  "nbformat": 4,
  "nbformat_minor": 0,
  "metadata": {
    "colab": {
      "provenance": []
    },
    "kernelspec": {
      "name": "python3",
      "display_name": "Python 3"
    },
    "language_info": {
      "name": "python"
    }
  },
  "cells": [
    {
      "cell_type": "code",
      "execution_count": 1,
      "metadata": {
        "colab": {
          "base_uri": "https://localhost:8080/",
          "height": 889
        },
        "id": "sCPCByMuqcd3",
        "outputId": "71005786-3ffe-406b-cc62-a110b175c965"
      },
      "outputs": [
        {
          "output_type": "stream",
          "name": "stderr",
          "text": [
            "[nltk_data] Downloading package stopwords to /root/nltk_data...\n",
            "[nltk_data]   Unzipping corpora/stopwords.zip.\n"
          ]
        },
        {
          "output_type": "stream",
          "name": "stdout",
          "text": [
            "Sample Data:\n",
            "    id                                              tweet sentiment\n",
            "0   1  I absolutely love the new iPhone update! So sm...  positive\n",
            "1   2              This app keeps crashing, so annoying.  negative\n",
            "2   3                  Just another regular day at work.   neutral\n",
            "3   4             Feeling grateful for everything today.  positive\n",
            "4   5             Why is the internet so slow right now?  negative\n",
            "Classification Report:\n",
            "               precision    recall  f1-score   support\n",
            "\n",
            "    negative       0.67      0.25      0.36         8\n",
            "     neutral       0.56      1.00      0.71         5\n",
            "    positive       0.71      0.83      0.77         6\n",
            "\n",
            "    accuracy                           0.63        19\n",
            "   macro avg       0.65      0.69      0.62        19\n",
            "weighted avg       0.65      0.63      0.58        19\n",
            "\n",
            "Accuracy: 0.631578947368421\n"
          ]
        },
        {
          "output_type": "display_data",
          "data": {
            "text/plain": [
              "<Figure size 640x480 with 2 Axes>"
            ],
            "image/png": "[encoded data removed]"
          },
          "metadata": {}
        },
        {
          "output_type": "stream",
          "name": "stdout",
          "text": [
            "Tweet: This is the worst product ever. -> Sentiment: negative\n",
            "Tweet: I love this app so much! -> Sentiment: negative\n",
            "Tweet: Just a normal day. -> Sentiment: positive\n"
          ]
        }
      ],
      "source": [
        "# Sentiment Analysis on Twitter Reviews\n",
        "\n",
        "# Step 1. Import Libraries\n",
        "import pandas as pd\n",
        "import numpy as np\n",
        "import matplotlib.pyplot as plt\n",
        "import seaborn as sns\n",
        "import nltk\n",
        "from sklearn.model_selection import train_test_split\n",
        "from sklearn.feature_extraction.text import CountVectorizer\n",
        "from sklearn.naive_bayes import MultinomialNB\n",
        "from sklearn.metrics import classification_report, confusion_matrix, accuracy_score\n",
        "\n",
        "nltk.download('stopwords')\n",
        "from nltk.corpus import stopwords\n",
        "import re\n",
        "\n",
        "# Step 2. Load Dataset\n",
        "df = pd.read_csv('twitter_reviews.csv')\n",
        "print(\"Sample Data:\\n\", df.head())\n",
        "\n",
        "# Step 3. Data Preprocessing\n",
        "def clean_text(text):\n",
        "    text = text.lower()\n",
        "    text = re.sub(r'http\\S+', '', text)  # remove URLs\n",
        "    text = re.sub(r'@\\w+', '', text)     # remove mentions\n",
        "    text = re.sub(r'#\\w+', '', text)     # remove hashtags\n",
        "    text = re.sub(r'[^\\w\\s]', '', text)  # remove punctuation\n",
        "    text = ' '.join([word for word in text.split() if word not in stopwords.words('english')])\n",
        "    return text\n",
        "\n",
        "df['clean_tweet'] = df['tweet'].apply(clean_text)\n",
        "\n",
        "# Step 4. Split Data\n",
        "X = df['clean_tweet']\n",
        "y = df['sentiment']\n",
        "\n",
        "X_train, X_test, y_train, y_test = train_test_split(X, y, test_size=0.2, random_state=42)\n",
        "\n",
        "# Step 5. Vectorization\n",
        "vectorizer = CountVectorizer()\n",
        "X_train_vec = vectorizer.fit_transform(X_train)\n",
        "X_test_vec = vectorizer.transform(X_test)\n",
        "\n",
        "# Step 6. Model Implementation (Naive Bayes)\n",
        "model = MultinomialNB()\n",
        "model.fit(X_train_vec, y_train)\n",
        "y_pred = model.predict(X_test_vec)\n",
        "\n",
        "# Step 7. Evaluation & Insights\n",
        "print(\"Classification Report:\\n\", classification_report(y_test, y_pred))\n",
        "print(\"Accuracy:\", accuracy_score(y_test, y_pred))\n",
        "\n",
        "# Confusion Matrix Visualization\n",
        "cm = confusion_matrix(y_test, y_pred)\n",
        "sns.heatmap(cm, annot=True, fmt='d', cmap='Blues', xticklabels=model.classes_, yticklabels=model.classes_)\n",
        "plt.xlabel('Predicted')\n",
        "plt.ylabel('Actual')\n",
        "plt.title('Confusion Matrix')\n",
        "plt.show()\n",
        "\n",
        "# Step 8. Sample Predictions\n",
        "sample_texts = [\"This is the worst product ever.\", \"I love this app so much!\", \"Just a normal day.\"]\n",
        "sample_clean = [clean_text(text) for text in sample_texts]\n",
        "sample_vec = vectorizer.transform(sample_clean)\n",
        "sample_pred = model.predict(sample_vec)\n",
        "\n",
        "for text, pred in zip(sample_texts, sample_pred):\n",
        "    print(f\"Tweet: {text} -> Sentiment: {pred}\")"
      ]
    }
  ]
}